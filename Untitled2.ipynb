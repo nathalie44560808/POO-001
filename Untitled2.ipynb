{
  "nbformat": 4,
  "nbformat_minor": 0,
  "metadata": {
    "colab": {
      "provenance": [],
      "authorship_tag": "ABX9TyMyod1/NfvSa71MiU04gvbn",
      "include_colab_link": true
    },
    "kernelspec": {
      "name": "python3",
      "display_name": "Python 3"
    },
    "language_info": {
      "name": "python"
    }
  },
  "cells": [
    {
      "cell_type": "markdown",
      "metadata": {
        "id": "view-in-github",
        "colab_type": "text"
      },
      "source": [
        "<a href=\"https://colab.research.google.com/github/nathalie44560808/POO-001/blob/main/Untitled2.ipynb\" target=\"_parent\"><img src=\"https://colab.research.google.com/assets/colab-badge.svg\" alt=\"Open In Colab\"/></a>"
      ]
    },
    {
      "cell_type": "code",
      "execution_count": 4,
      "metadata": {
        "colab": {
          "base_uri": "https://localhost:8080/"
        },
        "id": "7CG115SoeMTa",
        "outputId": "96b8a020-fcca-46bc-bcba-75c0e31610a6"
      },
      "outputs": [
        {
          "output_type": "stream",
          "name": "stdout",
          "text": [
            "Digite a temperatura em Fahrenheit: 98\n",
            "A temperatura em Celsius é: 36.67\n"
          ]
        }
      ],
      "source": [
        "fahrenheit = float(input(\"Digite a temperatura em Fahrenheit: \"))\n",
        "\n",
        "celsius = (5 / 9) * (fahrenheit - 32)\n",
        "\n",
        "print(f\"A temperatura em Celsius é: {celsius:.2f}\")"
      ]
    },
    {
      "cell_type": "code",
      "source": [
        "polegadas = float(input(\"digite em polegadas \"))\n",
        "\n",
        "milimetros = polegadas*25.4\n",
        "\n",
        "print(f\"{polegadas} polegadas é igual a {milimetros:.2f} milimetros.\")"
      ],
      "metadata": {
        "colab": {
          "base_uri": "https://localhost:8080/"
        },
        "id": "fjcY-LzBfhKy",
        "outputId": "408d5158-a022-4959-94fc-2ce316387a26"
      },
      "execution_count": 5,
      "outputs": [
        {
          "output_type": "stream",
          "name": "stdout",
          "text": [
            "digite em polegadas3\n",
            "3.0 polegadas é igual a 76.20 milimetros.\n"
          ]
        }
      ]
    },
    {
      "cell_type": "code",
      "source": [],
      "metadata": {
        "id": "1TZ2uNa0hvhS"
      },
      "execution_count": null,
      "outputs": []
    },
    {
      "cell_type": "code",
      "source": [
        "milimetros = float(input(\"digite em milimetros \"))\n",
        "polegadas = milimetros / 25.4\n",
        "print(f\"{milimetros} milimetros é igual a {polegadas:.2f} polegadas\")"
      ],
      "metadata": {
        "colab": {
          "base_uri": "https://localhost:8080/"
        },
        "id": "u4mQ4lf1hyxI",
        "outputId": "f3e13dda-2bbb-4b99-abec-c2c9dffafaad"
      },
      "execution_count": 6,
      "outputs": [
        {
          "output_type": "stream",
          "name": "stdout",
          "text": [
            "digite em milimetros 3\n",
            "3.0 milimetros é igual a 0.12 polegadas\n"
          ]
        }
      ]
    },
    {
      "cell_type": "code",
      "source": [
        "idade = int(input(\"Digite a sua idade: \"))\n",
        "\n",
        "if 16 <= idade < 70:\n",
        "  print(\"Você pode votar\")\n",
        "else:\n",
        "  print(\"Você não pode votar\")"
      ],
      "metadata": {
        "colab": {
          "base_uri": "https://localhost:8080/"
        },
        "id": "eAR-97M-iXnD",
        "outputId": "39ccf094-242f-46aa-fcf5-a0f640df341b"
      },
      "execution_count": 9,
      "outputs": [
        {
          "output_type": "stream",
          "name": "stdout",
          "text": [
            "Digite a sua idade: 71\n",
            "Você não pode votar\n"
          ]
        }
      ]
    },
    {
      "cell_type": "markdown",
      "source": [
        "exercicio 1: Celsius para Fahrenheit\n",
        "\n",
        "Narrativa:\n",
        "Ler Temp.Fahrenheit\n",
        "Calcular C=(5/9)(F-32)\n",
        "Exibir C\n",
        "\n",
        "Pseudocódigo:\n",
        "Início:\n",
        "Real C, F\n",
        "Ler F\n",
        "Calcular C = (5/9)(F-32)\n",
        "Exibir C\n",
        "Fim\n",
        "\n",
        "\n",
        "Exercicio 2: Polegadas para Milimetros\n",
        "\n",
        "Narrativa:\n",
        "Ler P\n",
        "Calcular mm = 25.4*P\n",
        "Exibir mm\n",
        "\n",
        "Pseudocódigo\n",
        "Inicio:\n",
        "real: P, mm\n",
        "Ler P\n",
        "Calcular mm = 25.4*P\n",
        "exibir mm\n",
        "Fim\n",
        "\n",
        "\n",
        "Exercicio 3: Milimetros para Polegadas\n",
        "\n",
        "Narrativa:\n",
        "Ler mm\n",
        "Calcular P = mm/25.4\n",
        "Exibir P\n",
        "\n",
        "Pseudocódigo\n",
        "Início\n",
        "Real: P, mm\n",
        "Ler mm\n",
        "Calcular P = mm/25.4\n",
        "Exibir P\n",
        "Fim\n",
        "\n",
        "Exercicio 4: Pode votar ou não\n",
        "\n",
        "Narrativa:\n",
        "Ler idade\n",
        "se idade >=16 e idade < 70:\n",
        "Exibir \"pode votar\"\n",
        "senão:\n",
        "Exibir \"Não pode votar\"\n",
        "\n",
        "Pseudocódigo:\n",
        "Início\n",
        "inteiro: idade\n",
        "Ler idade\n",
        "se idade>=16 e idade < 70 então:\n",
        "Exibir \"pode votar\"\n",
        "senão\n",
        "Exibir \"Não pode votar\"\n",
        "Fim"
      ],
      "metadata": {
        "id": "6-wsIdxojTm6"
      }
    }
  ]
}